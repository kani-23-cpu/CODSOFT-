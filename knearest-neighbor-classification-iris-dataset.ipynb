{
 "cells": [
  {
   "cell_type": "code",
   "execution_count": 1,
   "id": "aa53a047",
   "metadata": {
    "execution": {
     "iopub.execute_input": "2024-07-15T09:12:52.933683Z",
     "iopub.status.busy": "2024-07-15T09:12:52.933228Z",
     "iopub.status.idle": "2024-07-15T09:12:55.299309Z",
     "shell.execute_reply": "2024-07-15T09:12:55.298252Z"
    },
    "papermill": {
     "duration": 2.376743,
     "end_time": "2024-07-15T09:12:55.302114",
     "exception": false,
     "start_time": "2024-07-15T09:12:52.925371",
     "status": "completed"
    },
    "tags": []
   },
   "outputs": [],
   "source": [
    "import pandas as pd\n",
    "import numpy as np\n",
    "import matplotlib.pyplot as plt\n",
    "import seaborn as sns"
   ]
  },
  {
   "cell_type": "code",
   "execution_count": 2,
   "id": "a062dbe7",
   "metadata": {
    "execution": {
     "iopub.execute_input": "2024-07-15T09:12:55.315865Z",
     "iopub.status.busy": "2024-07-15T09:12:55.315273Z",
     "iopub.status.idle": "2024-07-15T09:12:55.358439Z",
     "shell.execute_reply": "2024-07-15T09:12:55.357122Z"
    },
    "papermill": {
     "duration": 0.053083,
     "end_time": "2024-07-15T09:12:55.361262",
     "exception": false,
     "start_time": "2024-07-15T09:12:55.308179",
     "status": "completed"
    },
    "tags": []
   },
   "outputs": [
    {
     "data": {
      "text/plain": [
       "(   sepal_length  sepal_width  petal_length  petal_width      species\n",
       " 0           5.1          3.5           1.4          0.2  Iris-setosa\n",
       " 1           4.9          3.0           1.4          0.2  Iris-setosa\n",
       " 2           4.7          3.2           1.3          0.2  Iris-setosa\n",
       " 3           4.6          3.1           1.5          0.2  Iris-setosa\n",
       " 4           5.0          3.6           1.4          0.2  Iris-setosa,\n",
       " (150, 5))"
      ]
     },
     "execution_count": 2,
     "metadata": {},
     "output_type": "execute_result"
    }
   ],
   "source": [
    "iris=pd.read_csv('/kaggle/input/iris-flower-dataset/IRIS.csv')\n",
    "iris.head(), iris.shape"
   ]
  },
  {
   "cell_type": "markdown",
   "id": "fde3f5bf",
   "metadata": {
    "papermill": {
     "duration": 0.005811,
     "end_time": "2024-07-15T09:12:55.373524",
     "exception": false,
     "start_time": "2024-07-15T09:12:55.367713",
     "status": "completed"
    },
    "tags": []
   },
   "source": [
    "### **Preprocessing**"
   ]
  },
  {
   "cell_type": "code",
   "execution_count": 3,
   "id": "5e02607d",
   "metadata": {
    "execution": {
     "iopub.execute_input": "2024-07-15T09:12:55.387807Z",
     "iopub.status.busy": "2024-07-15T09:12:55.386654Z",
     "iopub.status.idle": "2024-07-15T09:12:55.407091Z",
     "shell.execute_reply": "2024-07-15T09:12:55.405826Z"
    },
    "papermill": {
     "duration": 0.030238,
     "end_time": "2024-07-15T09:12:55.409670",
     "exception": false,
     "start_time": "2024-07-15T09:12:55.379432",
     "status": "completed"
    },
    "tags": []
   },
   "outputs": [
    {
     "data": {
      "text/html": [
       "<div>\n",
       "<style scoped>\n",
       "    .dataframe tbody tr th:only-of-type {\n",
       "        vertical-align: middle;\n",
       "    }\n",
       "\n",
       "    .dataframe tbody tr th {\n",
       "        vertical-align: top;\n",
       "    }\n",
       "\n",
       "    .dataframe thead th {\n",
       "        text-align: right;\n",
       "    }\n",
       "</style>\n",
       "<table border=\"1\" class=\"dataframe\">\n",
       "  <thead>\n",
       "    <tr style=\"text-align: right;\">\n",
       "      <th></th>\n",
       "      <th>sepal_length</th>\n",
       "      <th>sepal_width</th>\n",
       "      <th>petal_length</th>\n",
       "      <th>petal_width</th>\n",
       "    </tr>\n",
       "  </thead>\n",
       "  <tbody>\n",
       "    <tr>\n",
       "      <th>0</th>\n",
       "      <td>5.1</td>\n",
       "      <td>3.5</td>\n",
       "      <td>1.4</td>\n",
       "      <td>0.2</td>\n",
       "    </tr>\n",
       "    <tr>\n",
       "      <th>1</th>\n",
       "      <td>4.9</td>\n",
       "      <td>3.0</td>\n",
       "      <td>1.4</td>\n",
       "      <td>0.2</td>\n",
       "    </tr>\n",
       "    <tr>\n",
       "      <th>2</th>\n",
       "      <td>4.7</td>\n",
       "      <td>3.2</td>\n",
       "      <td>1.3</td>\n",
       "      <td>0.2</td>\n",
       "    </tr>\n",
       "    <tr>\n",
       "      <th>3</th>\n",
       "      <td>4.6</td>\n",
       "      <td>3.1</td>\n",
       "      <td>1.5</td>\n",
       "      <td>0.2</td>\n",
       "    </tr>\n",
       "    <tr>\n",
       "      <th>4</th>\n",
       "      <td>5.0</td>\n",
       "      <td>3.6</td>\n",
       "      <td>1.4</td>\n",
       "      <td>0.2</td>\n",
       "    </tr>\n",
       "  </tbody>\n",
       "</table>\n",
       "</div>"
      ],
      "text/plain": [
       "   sepal_length  sepal_width  petal_length  petal_width\n",
       "0           5.1          3.5           1.4          0.2\n",
       "1           4.9          3.0           1.4          0.2\n",
       "2           4.7          3.2           1.3          0.2\n",
       "3           4.6          3.1           1.5          0.2\n",
       "4           5.0          3.6           1.4          0.2"
      ]
     },
     "execution_count": 3,
     "metadata": {},
     "output_type": "execute_result"
    }
   ],
   "source": [
    "x=iris.iloc[0:,:4]\n",
    "x.head()"
   ]
  },
  {
   "cell_type": "code",
   "execution_count": 4,
   "id": "a235c8fb",
   "metadata": {
    "execution": {
     "iopub.execute_input": "2024-07-15T09:12:55.423764Z",
     "iopub.status.busy": "2024-07-15T09:12:55.423350Z",
     "iopub.status.idle": "2024-07-15T09:12:55.431718Z",
     "shell.execute_reply": "2024-07-15T09:12:55.430599Z"
    },
    "papermill": {
     "duration": 0.018404,
     "end_time": "2024-07-15T09:12:55.434233",
     "exception": false,
     "start_time": "2024-07-15T09:12:55.415829",
     "status": "completed"
    },
    "tags": []
   },
   "outputs": [
    {
     "data": {
      "text/plain": [
       "0    Iris-setosa\n",
       "1    Iris-setosa\n",
       "2    Iris-setosa\n",
       "3    Iris-setosa\n",
       "4    Iris-setosa\n",
       "Name: species, dtype: object"
      ]
     },
     "execution_count": 4,
     "metadata": {},
     "output_type": "execute_result"
    }
   ],
   "source": [
    "y=iris.species\n",
    "y.head()"
   ]
  },
  {
   "cell_type": "markdown",
   "id": "34869b11",
   "metadata": {
    "papermill": {
     "duration": 0.00615,
     "end_time": "2024-07-15T09:12:55.446822",
     "exception": false,
     "start_time": "2024-07-15T09:12:55.440672",
     "status": "completed"
    },
    "tags": []
   },
   "source": [
    "### **Splitting the dataset**"
   ]
  },
  {
   "cell_type": "code",
   "execution_count": 5,
   "id": "6295af8f",
   "metadata": {
    "execution": {
     "iopub.execute_input": "2024-07-15T09:12:55.461339Z",
     "iopub.status.busy": "2024-07-15T09:12:55.460905Z",
     "iopub.status.idle": "2024-07-15T09:12:55.828843Z",
     "shell.execute_reply": "2024-07-15T09:12:55.827565Z"
    },
    "papermill": {
     "duration": 0.378761,
     "end_time": "2024-07-15T09:12:55.831830",
     "exception": false,
     "start_time": "2024-07-15T09:12:55.453069",
     "status": "completed"
    },
    "tags": []
   },
   "outputs": [],
   "source": [
    "from sklearn.model_selection import train_test_split\n",
    "x_train,x_test,y_train,y_test=train_test_split(x,y,test_size=0.3,random_state=42)"
   ]
  },
  {
   "cell_type": "markdown",
   "id": "353a1878",
   "metadata": {
    "papermill": {
     "duration": 0.006154,
     "end_time": "2024-07-15T09:12:55.844618",
     "exception": false,
     "start_time": "2024-07-15T09:12:55.838464",
     "status": "completed"
    },
    "tags": []
   },
   "source": [
    "### ** Training the model with Grid search cv**"
   ]
  },
  {
   "cell_type": "code",
   "execution_count": 6,
   "id": "6474034c",
   "metadata": {
    "execution": {
     "iopub.execute_input": "2024-07-15T09:12:55.859339Z",
     "iopub.status.busy": "2024-07-15T09:12:55.858901Z",
     "iopub.status.idle": "2024-07-15T09:12:56.038934Z",
     "shell.execute_reply": "2024-07-15T09:12:56.037793Z"
    },
    "papermill": {
     "duration": 0.190677,
     "end_time": "2024-07-15T09:12:56.041754",
     "exception": false,
     "start_time": "2024-07-15T09:12:55.851077",
     "status": "completed"
    },
    "tags": []
   },
   "outputs": [],
   "source": [
    "from sklearn.model_selection import GridSearchCV, cross_val_score\n",
    "from sklearn.neighbors import KNeighborsClassifier\n",
    "knn=KNeighborsClassifier()"
   ]
  },
  {
   "cell_type": "code",
   "execution_count": 7,
   "id": "82837846",
   "metadata": {
    "execution": {
     "iopub.execute_input": "2024-07-15T09:12:56.056717Z",
     "iopub.status.busy": "2024-07-15T09:12:56.056266Z",
     "iopub.status.idle": "2024-07-15T09:12:56.061758Z",
     "shell.execute_reply": "2024-07-15T09:12:56.060579Z"
    },
    "papermill": {
     "duration": 0.016022,
     "end_time": "2024-07-15T09:12:56.064343",
     "exception": false,
     "start_time": "2024-07-15T09:12:56.048321",
     "status": "completed"
    },
    "tags": []
   },
   "outputs": [],
   "source": [
    "para={'n_neighbors':np.arange(1,31)}"
   ]
  },
  {
   "cell_type": "code",
   "execution_count": 8,
   "id": "8ccf4b2f",
   "metadata": {
    "execution": {
     "iopub.execute_input": "2024-07-15T09:12:56.080684Z",
     "iopub.status.busy": "2024-07-15T09:12:56.079166Z",
     "iopub.status.idle": "2024-07-15T09:12:58.133450Z",
     "shell.execute_reply": "2024-07-15T09:12:58.132124Z"
    },
    "papermill": {
     "duration": 2.065073,
     "end_time": "2024-07-15T09:12:58.136126",
     "exception": false,
     "start_time": "2024-07-15T09:12:56.071053",
     "status": "completed"
    },
    "tags": []
   },
   "outputs": [
    {
     "data": {
      "text/html": [
       "<style>#sk-container-id-1 {color: black;background-color: white;}#sk-container-id-1 pre{padding: 0;}#sk-container-id-1 div.sk-toggleable {background-color: white;}#sk-container-id-1 label.sk-toggleable__label {cursor: pointer;display: block;width: 100%;margin-bottom: 0;padding: 0.3em;box-sizing: border-box;text-align: center;}#sk-container-id-1 label.sk-toggleable__label-arrow:before {content: \"▸\";float: left;margin-right: 0.25em;color: #696969;}#sk-container-id-1 label.sk-toggleable__label-arrow:hover:before {color: black;}#sk-container-id-1 div.sk-estimator:hover label.sk-toggleable__label-arrow:before {color: black;}#sk-container-id-1 div.sk-toggleable__content {max-height: 0;max-width: 0;overflow: hidden;text-align: left;background-color: #f0f8ff;}#sk-container-id-1 div.sk-toggleable__content pre {margin: 0.2em;color: black;border-radius: 0.25em;background-color: #f0f8ff;}#sk-container-id-1 input.sk-toggleable__control:checked~div.sk-toggleable__content {max-height: 200px;max-width: 100%;overflow: auto;}#sk-container-id-1 input.sk-toggleable__control:checked~label.sk-toggleable__label-arrow:before {content: \"▾\";}#sk-container-id-1 div.sk-estimator input.sk-toggleable__control:checked~label.sk-toggleable__label {background-color: #d4ebff;}#sk-container-id-1 div.sk-label input.sk-toggleable__control:checked~label.sk-toggleable__label {background-color: #d4ebff;}#sk-container-id-1 input.sk-hidden--visually {border: 0;clip: rect(1px 1px 1px 1px);clip: rect(1px, 1px, 1px, 1px);height: 1px;margin: -1px;overflow: hidden;padding: 0;position: absolute;width: 1px;}#sk-container-id-1 div.sk-estimator {font-family: monospace;background-color: #f0f8ff;border: 1px dotted black;border-radius: 0.25em;box-sizing: border-box;margin-bottom: 0.5em;}#sk-container-id-1 div.sk-estimator:hover {background-color: #d4ebff;}#sk-container-id-1 div.sk-parallel-item::after {content: \"\";width: 100%;border-bottom: 1px solid gray;flex-grow: 1;}#sk-container-id-1 div.sk-label:hover label.sk-toggleable__label {background-color: #d4ebff;}#sk-container-id-1 div.sk-serial::before {content: \"\";position: absolute;border-left: 1px solid gray;box-sizing: border-box;top: 0;bottom: 0;left: 50%;z-index: 0;}#sk-container-id-1 div.sk-serial {display: flex;flex-direction: column;align-items: center;background-color: white;padding-right: 0.2em;padding-left: 0.2em;position: relative;}#sk-container-id-1 div.sk-item {position: relative;z-index: 1;}#sk-container-id-1 div.sk-parallel {display: flex;align-items: stretch;justify-content: center;background-color: white;position: relative;}#sk-container-id-1 div.sk-item::before, #sk-container-id-1 div.sk-parallel-item::before {content: \"\";position: absolute;border-left: 1px solid gray;box-sizing: border-box;top: 0;bottom: 0;left: 50%;z-index: -1;}#sk-container-id-1 div.sk-parallel-item {display: flex;flex-direction: column;z-index: 1;position: relative;background-color: white;}#sk-container-id-1 div.sk-parallel-item:first-child::after {align-self: flex-end;width: 50%;}#sk-container-id-1 div.sk-parallel-item:last-child::after {align-self: flex-start;width: 50%;}#sk-container-id-1 div.sk-parallel-item:only-child::after {width: 0;}#sk-container-id-1 div.sk-dashed-wrapped {border: 1px dashed gray;margin: 0 0.4em 0.5em 0.4em;box-sizing: border-box;padding-bottom: 0.4em;background-color: white;}#sk-container-id-1 div.sk-label label {font-family: monospace;font-weight: bold;display: inline-block;line-height: 1.2em;}#sk-container-id-1 div.sk-label-container {text-align: center;}#sk-container-id-1 div.sk-container {/* jupyter's `normalize.less` sets `[hidden] { display: none; }` but bootstrap.min.css set `[hidden] { display: none !important; }` so we also need the `!important` here to be able to override the default hidden behavior on the sphinx rendered scikit-learn.org. See: https://github.com/scikit-learn/scikit-learn/issues/21755 */display: inline-block !important;position: relative;}#sk-container-id-1 div.sk-text-repr-fallback {display: none;}</style><div id=\"sk-container-id-1\" class=\"sk-top-container\"><div class=\"sk-text-repr-fallback\"><pre>GridSearchCV(cv=10, estimator=KNeighborsClassifier(),\n",
       "             param_grid={&#x27;n_neighbors&#x27;: array([ 1,  2,  3,  4,  5,  6,  7,  8,  9, 10, 11, 12, 13, 14, 15, 16, 17,\n",
       "       18, 19, 20, 21, 22, 23, 24, 25, 26, 27, 28, 29, 30])},\n",
       "             scoring=&#x27;accuracy&#x27;)</pre><b>In a Jupyter environment, please rerun this cell to show the HTML representation or trust the notebook. <br />On GitHub, the HTML representation is unable to render, please try loading this page with nbviewer.org.</b></div><div class=\"sk-container\" hidden><div class=\"sk-item sk-dashed-wrapped\"><div class=\"sk-label-container\"><div class=\"sk-label sk-toggleable\"><input class=\"sk-toggleable__control sk-hidden--visually\" id=\"sk-estimator-id-1\" type=\"checkbox\" ><label for=\"sk-estimator-id-1\" class=\"sk-toggleable__label sk-toggleable__label-arrow\">GridSearchCV</label><div class=\"sk-toggleable__content\"><pre>GridSearchCV(cv=10, estimator=KNeighborsClassifier(),\n",
       "             param_grid={&#x27;n_neighbors&#x27;: array([ 1,  2,  3,  4,  5,  6,  7,  8,  9, 10, 11, 12, 13, 14, 15, 16, 17,\n",
       "       18, 19, 20, 21, 22, 23, 24, 25, 26, 27, 28, 29, 30])},\n",
       "             scoring=&#x27;accuracy&#x27;)</pre></div></div></div><div class=\"sk-parallel\"><div class=\"sk-parallel-item\"><div class=\"sk-item\"><div class=\"sk-label-container\"><div class=\"sk-label sk-toggleable\"><input class=\"sk-toggleable__control sk-hidden--visually\" id=\"sk-estimator-id-2\" type=\"checkbox\" ><label for=\"sk-estimator-id-2\" class=\"sk-toggleable__label sk-toggleable__label-arrow\">estimator: KNeighborsClassifier</label><div class=\"sk-toggleable__content\"><pre>KNeighborsClassifier()</pre></div></div></div><div class=\"sk-serial\"><div class=\"sk-item\"><div class=\"sk-estimator sk-toggleable\"><input class=\"sk-toggleable__control sk-hidden--visually\" id=\"sk-estimator-id-3\" type=\"checkbox\" ><label for=\"sk-estimator-id-3\" class=\"sk-toggleable__label sk-toggleable__label-arrow\">KNeighborsClassifier</label><div class=\"sk-toggleable__content\"><pre>KNeighborsClassifier()</pre></div></div></div></div></div></div></div></div></div></div>"
      ],
      "text/plain": [
       "GridSearchCV(cv=10, estimator=KNeighborsClassifier(),\n",
       "             param_grid={'n_neighbors': array([ 1,  2,  3,  4,  5,  6,  7,  8,  9, 10, 11, 12, 13, 14, 15, 16, 17,\n",
       "       18, 19, 20, 21, 22, 23, 24, 25, 26, 27, 28, 29, 30])},\n",
       "             scoring='accuracy')"
      ]
     },
     "execution_count": 8,
     "metadata": {},
     "output_type": "execute_result"
    }
   ],
   "source": [
    "grid_search=GridSearchCV(knn,para,cv=10,scoring='accuracy')\n",
    "grid_search.fit(x_train,y_train)"
   ]
  },
  {
   "cell_type": "code",
   "execution_count": 9,
   "id": "edec6c3d",
   "metadata": {
    "execution": {
     "iopub.execute_input": "2024-07-15T09:12:58.152255Z",
     "iopub.status.busy": "2024-07-15T09:12:58.151848Z",
     "iopub.status.idle": "2024-07-15T09:12:58.160071Z",
     "shell.execute_reply": "2024-07-15T09:12:58.158265Z"
    },
    "papermill": {
     "duration": 0.019206,
     "end_time": "2024-07-15T09:12:58.162542",
     "exception": false,
     "start_time": "2024-07-15T09:12:58.143336",
     "status": "completed"
    },
    "tags": []
   },
   "outputs": [
    {
     "data": {
      "text/plain": [
       "{'n_neighbors': 11}"
      ]
     },
     "execution_count": 9,
     "metadata": {},
     "output_type": "execute_result"
    }
   ],
   "source": [
    "grid_search.best_params_"
   ]
  },
  {
   "cell_type": "code",
   "execution_count": 10,
   "id": "5c652771",
   "metadata": {
    "execution": {
     "iopub.execute_input": "2024-07-15T09:12:58.181990Z",
     "iopub.status.busy": "2024-07-15T09:12:58.180976Z",
     "iopub.status.idle": "2024-07-15T09:12:58.203635Z",
     "shell.execute_reply": "2024-07-15T09:12:58.202349Z"
    },
    "papermill": {
     "duration": 0.03713,
     "end_time": "2024-07-15T09:12:58.207200",
     "exception": false,
     "start_time": "2024-07-15T09:12:58.170070",
     "status": "completed"
    },
    "tags": []
   },
   "outputs": [
    {
     "data": {
      "text/plain": [
       "array(['Iris-versicolor', 'Iris-virginica', 'Iris-virginica',\n",
       "       'Iris-versicolor', 'Iris-virginica', 'Iris-versicolor',\n",
       "       'Iris-virginica', 'Iris-versicolor', 'Iris-setosa',\n",
       "       'Iris-virginica', 'Iris-versicolor', 'Iris-setosa', 'Iris-setosa',\n",
       "       'Iris-setosa', 'Iris-versicolor', 'Iris-virginica', 'Iris-setosa',\n",
       "       'Iris-setosa', 'Iris-setosa', 'Iris-versicolor', 'Iris-setosa',\n",
       "       'Iris-versicolor', 'Iris-virginica', 'Iris-setosa',\n",
       "       'Iris-versicolor', 'Iris-virginica', 'Iris-setosa',\n",
       "       'Iris-virginica', 'Iris-virginica', 'Iris-versicolor',\n",
       "       'Iris-versicolor', 'Iris-virginica', 'Iris-versicolor',\n",
       "       'Iris-setosa', 'Iris-versicolor', 'Iris-virginica', 'Iris-setosa',\n",
       "       'Iris-setosa', 'Iris-versicolor', 'Iris-virginica', 'Iris-setosa',\n",
       "       'Iris-virginica', 'Iris-setosa', 'Iris-setosa', 'Iris-virginica',\n",
       "       'Iris-versicolor', 'Iris-virginica', 'Iris-virginica',\n",
       "       'Iris-virginica', 'Iris-virginica', 'Iris-versicolor',\n",
       "       'Iris-setosa', 'Iris-setosa', 'Iris-virginica', 'Iris-virginica',\n",
       "       'Iris-setosa', 'Iris-setosa', 'Iris-setosa', 'Iris-versicolor',\n",
       "       'Iris-virginica', 'Iris-setosa', 'Iris-virginica',\n",
       "       'Iris-virginica', 'Iris-setosa', 'Iris-versicolor',\n",
       "       'Iris-versicolor', 'Iris-versicolor', 'Iris-versicolor',\n",
       "       'Iris-virginica', 'Iris-setosa', 'Iris-virginica',\n",
       "       'Iris-versicolor', 'Iris-virginica', 'Iris-versicolor',\n",
       "       'Iris-versicolor', 'Iris-versicolor', 'Iris-setosa',\n",
       "       'Iris-versicolor', 'Iris-versicolor', 'Iris-setosa',\n",
       "       'Iris-versicolor', 'Iris-virginica', 'Iris-virginica',\n",
       "       'Iris-setosa', 'Iris-versicolor', 'Iris-virginica',\n",
       "       'Iris-virginica', 'Iris-setosa', 'Iris-virginica', 'Iris-setosa',\n",
       "       'Iris-versicolor', 'Iris-virginica', 'Iris-virginica',\n",
       "       'Iris-versicolor', 'Iris-virginica', 'Iris-versicolor',\n",
       "       'Iris-versicolor', 'Iris-virginica', 'Iris-virginica',\n",
       "       'Iris-setosa', 'Iris-versicolor', 'Iris-versicolor', 'Iris-setosa',\n",
       "       'Iris-versicolor', 'Iris-virginica'], dtype=object)"
      ]
     },
     "execution_count": 10,
     "metadata": {},
     "output_type": "execute_result"
    }
   ],
   "source": [
    "y_pred=grid_search.predict(x_train)\n",
    "y_pred.flatten()"
   ]
  },
  {
   "cell_type": "code",
   "execution_count": 11,
   "id": "8fb81b43",
   "metadata": {
    "execution": {
     "iopub.execute_input": "2024-07-15T09:12:58.229094Z",
     "iopub.status.busy": "2024-07-15T09:12:58.227505Z",
     "iopub.status.idle": "2024-07-15T09:12:58.246464Z",
     "shell.execute_reply": "2024-07-15T09:12:58.245096Z"
    },
    "papermill": {
     "duration": 0.032757,
     "end_time": "2024-07-15T09:12:58.249107",
     "exception": false,
     "start_time": "2024-07-15T09:12:58.216350",
     "status": "completed"
    },
    "tags": []
   },
   "outputs": [
    {
     "name": "stdout",
     "output_type": "stream",
     "text": [
      "                 precision    recall  f1-score   support\n",
      "\n",
      "    Iris-setosa       1.00      1.00      1.00        31\n",
      "Iris-versicolor       0.94      0.92      0.93        37\n",
      " Iris-virginica       0.92      0.95      0.93        37\n",
      "\n",
      "       accuracy                           0.95       105\n",
      "      macro avg       0.96      0.95      0.95       105\n",
      "   weighted avg       0.95      0.95      0.95       105\n",
      "\n"
     ]
    }
   ],
   "source": [
    "from sklearn.metrics import classification_report, confusion_matrix\n",
    "report=classification_report(y_train,y_pred)\n",
    "print(report)"
   ]
  },
  {
   "cell_type": "code",
   "execution_count": 12,
   "id": "66232774",
   "metadata": {
    "execution": {
     "iopub.execute_input": "2024-07-15T09:12:58.266677Z",
     "iopub.status.busy": "2024-07-15T09:12:58.265634Z",
     "iopub.status.idle": "2024-07-15T09:12:58.275334Z",
     "shell.execute_reply": "2024-07-15T09:12:58.274247Z"
    },
    "papermill": {
     "duration": 0.021021,
     "end_time": "2024-07-15T09:12:58.277620",
     "exception": false,
     "start_time": "2024-07-15T09:12:58.256599",
     "status": "completed"
    },
    "tags": []
   },
   "outputs": [
    {
     "data": {
      "text/plain": [
       "array([[31,  0,  0],\n",
       "       [ 0, 34,  3],\n",
       "       [ 0,  2, 35]])"
      ]
     },
     "execution_count": 12,
     "metadata": {},
     "output_type": "execute_result"
    }
   ],
   "source": [
    "max=confusion_matrix(y_train,y_pred)\n",
    "max"
   ]
  },
  {
   "cell_type": "code",
   "execution_count": 13,
   "id": "c7469f0e",
   "metadata": {
    "execution": {
     "iopub.execute_input": "2024-07-15T09:12:58.295740Z",
     "iopub.status.busy": "2024-07-15T09:12:58.294776Z",
     "iopub.status.idle": "2024-07-15T09:13:00.467008Z",
     "shell.execute_reply": "2024-07-15T09:13:00.465810Z"
    },
    "papermill": {
     "duration": 2.183995,
     "end_time": "2024-07-15T09:13:00.469714",
     "exception": false,
     "start_time": "2024-07-15T09:12:58.285719",
     "status": "completed"
    },
    "tags": []
   },
   "outputs": [],
   "source": [
    "k_range=range(1,31)\n",
    "k_scores=[]\n",
    "for k in k_range:\n",
    "    knn=KNeighborsClassifier(n_neighbors=k)\n",
    "    scores=cross_val_score(knn,x,y,cv=10,scoring='accuracy')\n",
    "    k_scores.append(scores.mean())"
   ]
  },
  {
   "cell_type": "code",
   "execution_count": 14,
   "id": "aba0a7aa",
   "metadata": {
    "execution": {
     "iopub.execute_input": "2024-07-15T09:13:00.488037Z",
     "iopub.status.busy": "2024-07-15T09:13:00.487230Z",
     "iopub.status.idle": "2024-07-15T09:13:00.773393Z",
     "shell.execute_reply": "2024-07-15T09:13:00.772115Z"
    },
    "papermill": {
     "duration": 0.298533,
     "end_time": "2024-07-15T09:13:00.776208",
     "exception": false,
     "start_time": "2024-07-15T09:13:00.477675",
     "status": "completed"
    },
    "tags": []
   },
   "outputs": [
    {
     "data": {
      "image/png": "[encoded data removed]",
      "text/plain": [
       "<Figure size 640x480 with 1 Axes>"
      ]
     },
     "metadata": {},
     "output_type": "display_data"
    }
   ],
   "source": [
    "plt.scatter(k_range,k_scores)\n",
    "plt.show()"
   ]
  },
  {
   "cell_type": "markdown",
   "id": "b8fc630e",
   "metadata": {
    "papermill": {
     "duration": 0.007887,
     "end_time": "2024-07-15T09:13:00.793255",
     "exception": false,
     "start_time": "2024-07-15T09:13:00.785368",
     "status": "completed"
    },
    "tags": []
   },
   "source": [
    "### **Own predictions**"
   ]
  },
  {
   "cell_type": "code",
   "execution_count": 15,
   "id": "685ceacc",
   "metadata": {
    "execution": {
     "iopub.execute_input": "2024-07-15T09:13:00.812355Z",
     "iopub.status.busy": "2024-07-15T09:13:00.811440Z",
     "iopub.status.idle": "2024-07-15T09:13:00.824456Z",
     "shell.execute_reply": "2024-07-15T09:13:00.822970Z"
    },
    "papermill": {
     "duration": 0.025731,
     "end_time": "2024-07-15T09:13:00.827274",
     "exception": false,
     "start_time": "2024-07-15T09:13:00.801543",
     "status": "completed"
    },
    "tags": []
   },
   "outputs": [
    {
     "name": "stderr",
     "output_type": "stream",
     "text": [
      "/opt/conda/lib/python3.10/site-packages/sklearn/base.py:439: UserWarning: X does not have valid feature names, but KNeighborsClassifier was fitted with feature names\n",
      "  warnings.warn(\n"
     ]
    },
    {
     "data": {
      "text/plain": [
       "array(['Iris-setosa'], dtype=object)"
      ]
     },
     "execution_count": 15,
     "metadata": {},
     "output_type": "execute_result"
    }
   ],
   "source": [
    "input=[5,3.3,1.1,0.2]\n",
    "result=grid_search.predict([input])\n",
    "result"
   ]
  }
 ],
 "metadata": {
  "kaggle": {
   "accelerator": "none",
   "dataSources": [
    {
     "datasetId": 17860,
     "sourceId": 23404,
     "sourceType": "datasetVersion"
    }
   ],
   "dockerImageVersionId": 30746,
   "isGpuEnabled": false,
   "isInternetEnabled": true,
   "language": "python",
   "sourceType": "notebook"
  },
  "kernelspec": {
   "display_name": "Python 3",
   "language": "python",
   "name": "python3"
  },
  "language_info": {
   "codemirror_mode": {
    "name": "ipython",
    "version": 3
   },
   "file_extension": ".py",
   "mimetype": "text/x-python",
   "name": "python",
   "nbconvert_exporter": "python",
   "pygments_lexer": "ipython3",
   "version": "3.10.13"
  },
  "papermill": {
   "default_parameters": {},
   "duration": 11.62975,
   "end_time": "2024-07-15T09:13:01.458236",
   "environment_variables": {},
   "exception": null,
   "input_path": "__notebook__.ipynb",
   "output_path": "__notebook__.ipynb",
   "parameters": {},
   "start_time": "2024-07-15T09:12:49.828486",
   "version": "2.5.0"
  }
 },
 "nbformat": 4,
 "nbformat_minor": 5
}
